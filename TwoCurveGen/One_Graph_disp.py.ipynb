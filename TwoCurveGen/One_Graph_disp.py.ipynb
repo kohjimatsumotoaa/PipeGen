{
 "cells": [
  {
   "cell_type": "code",
   "execution_count": 0,
   "metadata": {
    "application/vnd.databricks.v1+cell": {
     "cellMetadata": {
      "byteLimit": 2048000,
      "rowLimit": 10000
     },
     "inputWidgets": {},
     "nuid": "0f2ac0a4-729b-4937-a69f-868711a04e4b",
     "showTitle": false,
     "tableResultSettingsMap": {},
     "title": ""
    }
   },
   "outputs": [],
   "source": [
    "import numpy as np\n",
    "import matplotlib.pyplot as plt\n",
    "def visualize_pointcloud(points,\n",
    "                         xlim=(0, 2),\n",
    "                         ylim=(0, 2),\n",
    "                         zlim=(-1, 1)):\n",
    "    fig = plt.figure(figsize=(8,6))\n",
    "    ax = fig.add_subplot(111, projection='3d')\n",
    "    ax.scatter(points[:,0], points[:,1], points[:,2], s=0.8, c='b', alpha=0.8)\n",
    "    # 軸ラベル\n",
    "    ax.set_xlabel('X'); ax.set_ylabel('Y'); ax.set_zlabel('Z')\n",
    "    # 指定の表示範囲\n",
    "    ax.set_xlim(*xlim)\n",
    "    ax.set_ylim(*ylim)\n",
    "    ax.set_zlim(*zlim)\n",
    "    # 等方比（各軸のスケールを見た目で揃える）\n",
    "    try:\n",
    "        ax.set_box_aspect([1,1,1])\n",
    "    except Exception:\n",
    "        pass\n",
    "    plt.tight_layout()\n",
    "    plt.show()\n",
    "if __name__ == \"__main__\":\n",
    "    pts = np.loadtxt(\"pipe_case_02.xyz\", skiprows=1)\n",
    "    visualize_pointcloud(pts, xlim=(0,2), ylim=(0,2), zlim=(-1,1))"
   ]
  },
  {
   "cell_type": "code",
   "execution_count": 0,
   "metadata": {
    "application/vnd.databricks.v1+cell": {
     "cellMetadata": {},
     "inputWidgets": {},
     "nuid": "0445dfc1-2e8b-4dff-84d1-ab273e666c00",
     "showTitle": false,
     "tableResultSettingsMap": {},
     "title": ""
    }
   },
   "outputs": [],
   "source": []
  }
 ],
 "metadata": {
  "application/vnd.databricks.v1+notebook": {
   "computePreferences": null,
   "dashboards": [],
   "environmentMetadata": {
    "base_environment": "",
    "environment_version": "3"
   },
   "inputWidgetPreferences": null,
   "language": "python",
   "notebookMetadata": {
    "pythonIndentUnit": 4
   },
   "notebookName": "One_Graph_disp.py",
   "widgets": {}
  },
  "language_info": {
   "name": "python"
  }
 },
 "nbformat": 4,
 "nbformat_minor": 0
}
